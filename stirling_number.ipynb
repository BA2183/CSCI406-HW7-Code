{
 "cells": [
  {
   "cell_type": "code",
   "execution_count": 47,
   "metadata": {},
   "outputs": [
    {
     "data": {
      "text/plain": [
       "[[-1, -1, -1, -1, -1, -1, -1, -1],\n",
       " [-1, -1, -1, -1, -1, -1, -1, -1],\n",
       " [-1, -1, -1, -1, -1, -1, -1, -1],\n",
       " [-1, -1, -1, -1, -1, -1, -1, -1],\n",
       " [-1, -1, -1, -1, -1, -1, -1, -1],\n",
       " [-1, -1, -1, -1, -1, -1, -1, -1],\n",
       " [-1, -1, -1, -1, -1, -1, -1, -1],\n",
       " [-1, -1, -1, -1, -1, -1, -1, -1]]"
      ]
     },
     "execution_count": 47,
     "metadata": {},
     "output_type": "execute_result"
    }
   ],
   "source": [
    "n = 7\n",
    "k = 5\n",
    "memory = [[-1 for col in range(max(n, k)+1)] for row in range(max(n, k)+1)]\n",
    "memory"
   ]
  },
  {
   "cell_type": "code",
   "execution_count": 43,
   "metadata": {},
   "outputs": [],
   "source": [
    "def S(n, k):\n",
    "    # base case\n",
    "    if k == 0 and n > 0: return 0\n",
    "    if n == k: return 1\n",
    "    if k == 1 and n > 1: return 1\n",
    "    if n < k: return 0\n",
    "\n",
    "    # recursive state\n",
    "    return k * S(n-1, k) + S(n-1, k-1)"
   ]
  },
  {
   "cell_type": "code",
   "execution_count": 44,
   "metadata": {},
   "outputs": [],
   "source": [
    "def TP_S(n, k, mem):\n",
    "    # base case\n",
    "    if mem[n][k] != -1: return mem[n][k]\n",
    "    if k == 0 and n > 0: return 0\n",
    "    if n == k: return 1\n",
    "    if k == 1 and n > 1: return 1\n",
    "    if n < k: return 0\n",
    "\n",
    "    mem[n][k] = k * TP_S(n-1, k, mem) + TP_S(n-1, k-1, mem)\n",
    "\n",
    "    return mem[n][k]"
   ]
  },
  {
   "cell_type": "code",
   "execution_count": 48,
   "metadata": {},
   "outputs": [
    {
     "data": {
      "text/plain": [
       "140"
      ]
     },
     "execution_count": 48,
     "metadata": {},
     "output_type": "execute_result"
    }
   ],
   "source": [
    "TP_S(n, k, memory)"
   ]
  },
  {
   "cell_type": "code",
   "execution_count": 49,
   "metadata": {},
   "outputs": [
    {
     "data": {
      "text/plain": [
       "[[-1, -1, -1, -1, -1, -1, -1, -1],\n",
       " [-1, -1, -1, -1, -1, -1, -1, -1],\n",
       " [-1, -1, -1, -1, -1, -1, -1, -1],\n",
       " [-1, -1, 3, -1, -1, -1, -1, -1],\n",
       " [-1, -1, 7, 6, -1, -1, -1, -1],\n",
       " [-1, -1, -1, 25, 10, -1, -1, -1],\n",
       " [-1, -1, -1, -1, 65, 15, -1, -1],\n",
       " [-1, -1, -1, -1, -1, 140, -1, -1]]"
      ]
     },
     "execution_count": 49,
     "metadata": {},
     "output_type": "execute_result"
    }
   ],
   "source": [
    "memory"
   ]
  }
 ],
 "metadata": {
  "kernelspec": {
   "display_name": "Python 3",
   "language": "python",
   "name": "python3"
  },
  "language_info": {
   "codemirror_mode": {
    "name": "ipython",
    "version": 3
   },
   "file_extension": ".py",
   "mimetype": "text/x-python",
   "name": "python",
   "nbconvert_exporter": "python",
   "pygments_lexer": "ipython3",
   "version": "3.11.8"
  }
 },
 "nbformat": 4,
 "nbformat_minor": 2
}
