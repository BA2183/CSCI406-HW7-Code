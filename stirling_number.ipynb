{
 "cells": [
  {
   "cell_type": "code",
   "execution_count": null,
   "metadata": {},
   "outputs": [],
   "source": [
    "def S(n, k):\n",
    "    # base case\n",
    "    if k == 0 and n > 0: return 0\n",
    "    if n == k: return 1\n",
    "    if k == 1 and n > 1: return 1\n",
    "    if n < k: return 0\n",
    "\n",
    "    # recursive state\n",
    "    return k * S(n-1, k) + S(n-1, k-1)"
   ]
  },
  {
   "cell_type": "code",
   "execution_count": null,
   "metadata": {},
   "outputs": [],
   "source": [
    "n = 7\n",
    "k = 5\n",
    "tp_memory = [[-1 for col in range(k+1)] for row in range(n+1)]\n",
    "def TP_S(n, k, mem):\n",
    "    # base case\n",
    "    if mem[n][k] != -1: return mem[n][k]\n",
    "    if k == 0 and n > 0: return 0\n",
    "    if n == k: return 1\n",
    "    if k == 1 and n > 1: return 1\n",
    "    if n < k: return 0\n",
    "\n",
    "    mem[n][k] = k * TP_S(n-1, k, mem) + TP_S(n-1, k-1, mem)\n",
    "\n",
    "    return mem[n][k]\n",
    "TP_S(n, k, tp_memory)"
   ]
  },
  {
   "cell_type": "code",
   "execution_count": null,
   "metadata": {},
   "outputs": [],
   "source": [
    "tp_memory"
   ]
  },
  {
   "cell_type": "code",
   "execution_count": null,
   "metadata": {},
   "outputs": [],
   "source": [
    "n = 7\n",
    "k = 7\n",
    "bu_memory = [[0 for col in range(k+1)] for row in range(n+1)]\n",
    "def BU_S(n, k, mem):\n",
    "    # if n = k\n",
    "    for x in range(k+1): mem[x][x] = 1\n",
    "    # if k = 1 and n > 1\n",
    "    for y in range(2, n+1): mem[y][1] = 1\n",
    "    for i in range(3, n+1):\n",
    "        for j in range(2, k+1):\n",
    "            if i > j:\n",
    "                mem[i][j] = j * mem[i-1][j] + mem[i-1][j-1]\n",
    "\n",
    "    return mem[n][k]\n",
    "BU_S(n, k, bu_memory)"
   ]
  },
  {
   "cell_type": "code",
   "execution_count": null,
   "metadata": {},
   "outputs": [],
   "source": [
    "bu_memory"
   ]
  }
 ],
 "metadata": {
  "kernelspec": {
   "display_name": "Python 3",
   "language": "python",
   "name": "python3"
  },
  "language_info": {
   "codemirror_mode": {
    "name": "ipython",
    "version": 3
   },
   "file_extension": ".py",
   "mimetype": "text/x-python",
   "name": "python",
   "nbconvert_exporter": "python",
   "pygments_lexer": "ipython3",
   "version": "3.11.8"
  }
 },
 "nbformat": 4,
 "nbformat_minor": 2
}
