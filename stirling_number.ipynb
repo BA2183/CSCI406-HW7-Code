{
 "cells": [
  {
   "cell_type": "code",
   "execution_count": 51,
   "metadata": {},
   "outputs": [
    {
     "data": {
      "text/plain": [
       "[[-1, -1, -1, -1, -1, -1],\n",
       " [-1, -1, -1, -1, -1, -1],\n",
       " [-1, -1, -1, -1, -1, -1],\n",
       " [-1, -1, -1, -1, -1, -1],\n",
       " [-1, -1, -1, -1, -1, -1],\n",
       " [-1, -1, -1, -1, -1, -1],\n",
       " [-1, -1, -1, -1, -1, -1],\n",
       " [-1, -1, -1, -1, -1, -1]]"
      ]
     },
     "execution_count": 51,
     "metadata": {},
     "output_type": "execute_result"
    }
   ],
   "source": [
    "n = 7\n",
    "k = 5\n",
    "memory = [[-1 for col in range(k+1)] for row in range(n+1)]\n",
    "memory"
   ]
  },
  {
   "cell_type": "code",
   "execution_count": 43,
   "metadata": {},
   "outputs": [],
   "source": [
    "def S(n, k):\n",
    "    # base case\n",
    "    if k == 0 and n > 0: return 0\n",
    "    if n == k: return 1\n",
    "    if k == 1 and n > 1: return 1\n",
    "    if n < k: return 0\n",
    "\n",
    "    # recursive state\n",
    "    return k * S(n-1, k) + S(n-1, k-1)"
   ]
  },
  {
   "cell_type": "code",
   "execution_count": 44,
   "metadata": {},
   "outputs": [],
   "source": [
    "n = 7\n",
    "k = 5\n",
    "tp_memory = [[-1 for col in range(k+1)] for row in range(n+1)]\n",
    "def TP_S(n, k, mem):\n",
    "    # base case\n",
    "    if mem[n][k] != -1: return mem[n][k]\n",
    "    if k == 0 and n > 0: return 0\n",
    "    if n == k: return 1\n",
    "    if k == 1 and n > 1: return 1\n",
    "    if n < k: return 0\n",
    "\n",
    "    mem[n][k] = k * TP_S(n-1, k, mem) + TP_S(n-1, k-1, mem)\n",
    "\n",
    "    return mem[n][k]\n",
    "TP_S(n, k, tp_memory)"
   ]
  },
  {
   "cell_type": "code",
   "execution_count": null,
   "metadata": {},
   "outputs": [],
   "source": [
    "tp_memory"
   ]
  },
  {
   "cell_type": "code",
   "execution_count": null,
   "metadata": {},
   "outputs": [],
   "source": [
    "def BU_S(n, k, mem):\n",
    "    # k = 0 and n > 0\n",
    "    for a in range (1, n+1):\n",
    "        mem[a][0] = 0\n",
    "    # if n = k\n",
    "    for b in range(n):\n",
    "        mem[b][b] = 1\n",
    "    # if k = 1 and n > 1\n",
    "    for c in range(2, n+1):\n",
    "        mem[c][1] = 1\n",
    "    # if n < k\n",
    "    for i in range(n+1):\n",
    "        for j in range()\n"
   ]
  }
 ],
 "metadata": {
  "kernelspec": {
   "display_name": "Python 3",
   "language": "python",
   "name": "python3"
  },
  "language_info": {
   "codemirror_mode": {
    "name": "ipython",
    "version": 3
   },
   "file_extension": ".py",
   "mimetype": "text/x-python",
   "name": "python",
   "nbconvert_exporter": "python",
   "pygments_lexer": "ipython3",
   "version": "3.11.8"
  }
 },
 "nbformat": 4,
 "nbformat_minor": 2
}
